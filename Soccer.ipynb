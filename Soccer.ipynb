{
 "cells": [
  {
   "cell_type": "markdown",
   "metadata": {},
   "source": [
    "# Collaboration and Competition\n",
    "\n",
    "---\n",
    "\n",
    "Congratulations for completing the third project of the [Deep Reinforcement Learning Nanodegree](https://www.udacity.com/course/deep-reinforcement-learning-nanodegree--nd893) program!  In this notebook, you will learn how to control agents in a more challenging environment, where the goal is to train a team of agents to play soccer.  **Note that this exercise is optional!**\n",
    "\n",
    "### 1. Start the Environment\n",
    "\n",
    "We begin by importing the necessary packages.  If the code cell below returns an error, please revisit the project instructions to double-check that you have installed [Unity ML-Agents](https://github.com/Unity-Technologies/ml-agents/blob/master/docs/Installation.md) and [NumPy](http://www.numpy.org/)."
   ]
  },
  {
   "cell_type": "code",
   "execution_count": 3,
   "metadata": {},
   "outputs": [],
   "source": [
    "from unityagents import UnityEnvironment\n",
    "import numpy as np"
   ]
  },
  {
   "cell_type": "markdown",
   "metadata": {},
   "source": [
    "Next, we will start the environment!  **_Before running the code cell below_**, change the `file_name` parameter to match the location of the Unity environment that you downloaded.\n",
    "\n",
    "- **Mac**: `\"path/to/Soccer.app\"`\n",
    "- **Windows** (x86): `\"path/to/Soccer_Windows_x86/Soccer.exe\"`\n",
    "- **Windows** (x86_64): `\"path/to/Soccer_Windows_x86_64/Soccer.exe\"`\n",
    "- **Linux** (x86): `\"path/to/Soccer_Linux/Soccer.x86\"`\n",
    "- **Linux** (x86_64): `\"path/to/Soccer_Linux/Soccer.x86_64\"`\n",
    "- **Linux** (x86, headless): `\"path/to/Soccer_Linux_NoVis/Soccer.x86\"`\n",
    "- **Linux** (x86_64, headless): `\"path/to/Soccer_Linux_NoVis/Soccer.x86_64\"`\n",
    "\n",
    "For instance, if you are using a Mac, then you downloaded `Soccer.app`.  If this file is in the same folder as the notebook, then the line below should appear as follows:\n",
    "```\n",
    "env = UnityEnvironment(file_name=\"Soccer.app\")\n",
    "```"
   ]
  },
  {
   "cell_type": "code",
   "execution_count": 4,
   "metadata": {},
   "outputs": [
    {
     "name": "stdout",
     "output_type": "stream",
     "text": [
      "Soccer_Data  Soccer.x86  Soccer.x86_64\r\n"
     ]
    }
   ],
   "source": [
    "!ls Soccer_Linux/"
   ]
  },
  {
   "cell_type": "code",
   "execution_count": 5,
   "metadata": {},
   "outputs": [
    {
     "name": "stderr",
     "output_type": "stream",
     "text": [
      "INFO:unityagents:\n",
      "'Academy' started successfully!\n",
      "Unity Academy name: Academy\n",
      "        Number of Brains: 2\n",
      "        Number of External Brains : 2\n",
      "        Lesson number : 0\n",
      "        Reset Parameters :\n",
      "\t\t\n",
      "Unity brain name: GoalieBrain\n",
      "        Number of Visual Observations (per agent): 0\n",
      "        Vector Observation space type: continuous\n",
      "        Vector Observation space size (per agent): 112\n",
      "        Number of stacked Vector Observation: 3\n",
      "        Vector Action space type: discrete\n",
      "        Vector Action space size (per agent): 4\n",
      "        Vector Action descriptions: , , , \n",
      "Unity brain name: StrikerBrain\n",
      "        Number of Visual Observations (per agent): 0\n",
      "        Vector Observation space type: continuous\n",
      "        Vector Observation space size (per agent): 112\n",
      "        Number of stacked Vector Observation: 3\n",
      "        Vector Action space type: discrete\n",
      "        Vector Action space size (per agent): 6\n",
      "        Vector Action descriptions: , , , , , \n"
     ]
    }
   ],
   "source": [
    "env = UnityEnvironment(file_name=\"Soccer_Linux/Soccer.x86_64\", no_graphics=True)"
   ]
  },
  {
   "cell_type": "markdown",
   "metadata": {},
   "source": [
    "Environments contain **_brains_** which are responsible for deciding the actions of their associated agents. Here we obtain separate brains for the striker and goalie agents."
   ]
  },
  {
   "cell_type": "code",
   "execution_count": 4,
   "metadata": {},
   "outputs": [
    {
     "name": "stdout",
     "output_type": "stream",
     "text": [
      "['GoalieBrain', 'StrikerBrain']\n"
     ]
    }
   ],
   "source": [
    "# print the brain names\n",
    "print(env.brain_names)\n",
    "\n",
    "# set the goalie brain\n",
    "g_brain_name = env.brain_names[0]\n",
    "g_brain = env.brains[g_brain_name]\n",
    "\n",
    "# set the striker brain\n",
    "s_brain_name = env.brain_names[1]\n",
    "s_brain = env.brains[s_brain_name]"
   ]
  },
  {
   "cell_type": "markdown",
   "metadata": {},
   "source": [
    "### 2. Examine the State and Action Spaces\n",
    "\n",
    "Run the code cell below to print some information about the environment."
   ]
  },
  {
   "cell_type": "code",
   "execution_count": 5,
   "metadata": {},
   "outputs": [
    {
     "name": "stdout",
     "output_type": "stream",
     "text": [
      "Number of goalie agents: 2\n",
      "Number of striker agents: 2\n",
      "Number of goalie actions: 4\n",
      "Number of striker actions: 6\n",
      "There are 2 goalie agents. Each receives a state with length: 336\n",
      "There are 2 striker agents. Each receives a state with length: 336\n"
     ]
    }
   ],
   "source": [
    "# reset the environment\n",
    "env_info = env.reset(train_mode=True)\n",
    "\n",
    "# number of agents \n",
    "num_g_agents = len(env_info[g_brain_name].agents)\n",
    "print('Number of goalie agents:', num_g_agents)\n",
    "num_s_agents = len(env_info[s_brain_name].agents)\n",
    "print('Number of striker agents:', num_s_agents)\n",
    "\n",
    "# number of actions\n",
    "g_action_size = g_brain.vector_action_space_size\n",
    "print('Number of goalie actions:', g_action_size)\n",
    "s_action_size = s_brain.vector_action_space_size\n",
    "print('Number of striker actions:', s_action_size)\n",
    "\n",
    "# examine the state space \n",
    "g_states = env_info[g_brain_name].vector_observations\n",
    "g_state_size = g_states.shape[1]\n",
    "print('There are {} goalie agents. Each receives a state with length: {}'.format(g_states.shape[0], g_state_size))\n",
    "s_states = env_info[s_brain_name].vector_observations\n",
    "s_state_size = s_states.shape[1]\n",
    "print('There are {} striker agents. Each receives a state with length: {}'.format(s_states.shape[0], s_state_size))"
   ]
  },
  {
   "cell_type": "markdown",
   "metadata": {},
   "source": [
    "### 3. Take Random Actions in the Environment\n",
    "\n",
    "In the next code cell, you will learn how to use the Python API to control the agents and receive feedback from the environment.\n",
    "\n",
    "Once this cell is executed, you will watch the agents' performance, if they select actions at random with each time step.  A window should pop up that allows you to observe the agents.\n",
    "\n",
    "Of course, as part of the project, you'll have to change the code so that the agents are able to use their experiences to gradually choose better actions when interacting with the environment!"
   ]
  },
  {
   "cell_type": "code",
   "execution_count": 6,
   "metadata": {},
   "outputs": [
    {
     "name": "stdout",
     "output_type": "stream",
     "text": [
      "{'GoalieBrain': array([0, 3]), 'StrikerBrain': array([4, 2])}\n",
      "g [0.0016666667070239782, 0.0016666667070239782]\n",
      "s [-0.0016666667070239782, -0.0016666667070239782]\n"
     ]
    }
   ],
   "source": [
    "for i in range(2):                                         # play game for 2 episodes\n",
    "    env_info = env.reset(train_mode=False)                 # reset the environment    \n",
    "    g_states = env_info[g_brain_name].vector_observations  # get initial state (goalies)\n",
    "    s_states = env_info[s_brain_name].vector_observations  # get initial state (strikers)\n",
    "    g_scores = np.zeros(num_g_agents)                      # initialize the score (goalies)\n",
    "    s_scores = np.zeros(num_s_agents)  \n",
    "    while True:\n",
    "        # select actions and send to environment\n",
    "        g_actions = np.random.randint(g_action_size, size=num_g_agents)        \n",
    "        s_actions = np.random.randint(s_action_size, size=num_s_agents)        \n",
    "        \n",
    "        actions = dict(zip([g_brain_name, s_brain_name], \n",
    "                           [g_actions, s_actions]))\n",
    "        print(actions)\n",
    "        env_info = env.step(actions)\n",
    "        \n",
    "        \n",
    "        # get next states\n",
    "        g_next_states = env_info[g_brain_name].vector_observations         \n",
    "        s_next_states = env_info[s_brain_name].vector_observations\n",
    "        \n",
    "        # get reward and update scores\n",
    "        g_rewards = env_info[g_brain_name].rewards\n",
    "        print(\"g\", g_rewards)\n",
    "        s_rewards = env_info[s_brain_name].rewards\n",
    "        print(\"s\", s_rewards)\n",
    "        g_scores += g_rewards\n",
    "        s_scores += s_rewards\n",
    "        \n",
    "        # check if episode finished\n",
    "        done = np.any(env_info[g_brain_name].local_done)  \n",
    "        \n",
    "        # roll over states to next time step\n",
    "        g_states = g_next_states\n",
    "        s_states = s_next_states\n",
    "        \n",
    "        \n",
    "        # exit loop if episode finished\n",
    "        if done:                                           \n",
    "            break\n",
    "        break\n",
    "    break\n",
    "    print('Scores from episode {}: {} (goalies), {} (strikers)'.format(i+1, g_scores, s_scores))"
   ]
  },
  {
   "cell_type": "markdown",
   "metadata": {},
   "source": [
    "When finished, you can close the environment."
   ]
  },
  {
   "cell_type": "code",
   "execution_count": 22,
   "metadata": {},
   "outputs": [],
   "source": [
    "env.close()"
   ]
  },
  {
   "cell_type": "markdown",
   "metadata": {},
   "source": [
    "### 4. It's Your Turn!\n",
    "\n",
    "Now it's your turn to train your own agent to solve the environment!  When training the environment, set `train_mode=True`, so that the line for resetting the environment looks like the following:\n",
    "```python\n",
    "env_info = env.reset(train_mode=True)[brain_name]\n",
    "```"
   ]
  },
  {
   "cell_type": "markdown",
   "metadata": {},
   "source": [
    "## Training the Actor-Cirtic model"
   ]
  },
  {
   "cell_type": "code",
   "execution_count": 6,
   "metadata": {},
   "outputs": [],
   "source": [
    "def run_ddpg(env, goalier_team, striker_team, max_episodes=1000, max_steps=10000):\n",
    "    scores = []\n",
    "    goalier_brain_name, striker_brain_name = env.brain_names\n",
    "\n",
    "    for episode in range(1, max_episodes + 1):\n",
    "        env.reset(train_mode=True)\n",
    "\n",
    "        episode_score = np.zeros(2)\n",
    "\n",
    "        env_info = env.reset(train_mode=True)\n",
    "\n",
    "        goalier_state = env_info[goalier_brain_name].vector_observations\n",
    "        goalier_state = np.reshape(goalier_state, (1, -1))\n",
    "\n",
    "        striker_state = env_info[striker_brain_name].vector_observations\n",
    "        striker_state = np.reshape(striker_state, (1, -1))\n",
    "\n",
    "        for step in range(max_steps):\n",
    "            \n",
    "            goalier_actions = np.random.randint(agent.act(goalier_state) for agent in goalier_team)  \n",
    "            goalier_actions = np.asarray(goalier_actions, dtype=np.int16)\n",
    "            \n",
    "            striker_actions = np.random.randint(agent.act(goalier_state) for agent in striker_team)  \n",
    "            striker_actions = np.asarray(strike_actions, dtype=np.int16)\n",
    "            \n",
    "            actions = dict(zip([goalier_brain_name, striker_brain_name],\n",
    "                               [goalier_actions, striker_actions]))\n",
    "\n",
    "            env_info = env.step(actions)\n",
    "\n",
    "            goalier_next_state = env_info[goalier_brain_name].vector_observations\n",
    "            goalier_next_state = np.reshape(goalier_next_state, (1, -1))\n",
    "\n",
    "            striker_next_state = env_info[striker_brain_name].vector_observations\n",
    "            striker_next_state = np.reshape(striker_next_state, (1, -1))\n",
    "\n",
    "            goalier_rewards = np.mean(env_info[goalier_brain_name].rewards)\n",
    "            striker_rewared = np.mean(env_info[striker_brain_name].rewards)\n",
    "            rewards = goalier_rewards if goalier_rewards > striker_rewared else striker_rewared\n",
    "\n",
    "            done = np.any(env_info[goalier_brain_name].local_done)\n",
    "\n",
    "            episode_score += rewards\n",
    "\n",
    "            # update each agent\n",
    "            # agent1.step(state, action1, rewards[0], next_state, dones[0])\n",
    "            # agent2.step(state, action2, rewards[1], next_state, dones[1])\n",
    "\n",
    "            goalier_state = goalier_next_state\n",
    "            striker_state = striker_next_state\n",
    "\n",
    "            if done:\n",
    "                break\n",
    "                \n",
    "        scores.append(np.max(episode_score))\n",
    "        mean_score = np.mean(scores[-100:]) if len(scores) >= 100 else np.mean(scores)\n",
    "\n",
    "        print('\\rEpisode {}\\tAverage Score: {:.2f}\\tScore: {:.2f}'.format(\n",
    "            episode, mean_score, np.max(episode_score)), end=\"\", flush=True)\n",
    "\n",
    "        if mean_score >= 0.5:\n",
    "            print(\"\\t Model reached the score goal in {} episodes!\".format(episode))\n",
    "            break\n",
    "    \n",
    "    #save goalier actor team\n",
    "    for i, agent in enumerate(goalier_team):        \n",
    "        torch.save(agent.online_actor.state_dict(), \"models/goalier_actor_%s.path\"%i)\n",
    "        torch.save(agent.online_critic.state_dict(), \"models/goalier_critic_%i.path\"%i)\n",
    "        \n",
    "    #save striker actor team\n",
    "    for i, agent in enumerate(striker_team):        \n",
    "        torch.save(agent.online_actor.state_dict(), \"models/striker_actor_%s.path\"%i)\n",
    "        torch.save(agent.online_critic.state_dict(), \"models/striker_critic_%i.path\"%i)\n",
    "\n",
    "    return scores"
   ]
  },
  {
   "cell_type": "code",
   "execution_count": 21,
   "metadata": {},
   "outputs": [],
   "source": [
    "!mkdir models"
   ]
  },
  {
   "cell_type": "code",
   "execution_count": 24,
   "metadata": {},
   "outputs": [],
   "source": [
    "import matplotlib.pyplot as plt\n",
    "import torch\n",
    "\n",
    "from agent import Agent"
   ]
  },
  {
   "cell_type": "code",
   "execution_count": 95,
   "metadata": {},
   "outputs": [],
   "source": [
    "import torch\n",
    "import torch.nn as nn\n",
    "import torch.nn.functional as F\n",
    "class Actor(nn.Module):\n",
    "    def __init__(self, state_size, action_size, fc1_units, fc2_units):\n",
    "        super(Actor, self).__init__()\n",
    "        self.fc1 = nn.Linear(state_size, fc1_units)\n",
    "        self.bn1 = nn.BatchNorm1d(fc1_units)\n",
    "        self.fc2 = nn.Linear(fc1_units, fc2_units)\n",
    "        self.bn2 = nn.BatchNorm1d(fc2_units)\n",
    "        self.fc3 = nn.Linear(fc2_units, action_size)\n",
    "        \n",
    "\n",
    "    def reset_parameters(self):\n",
    "        self.fc1.weight.data.uniform_(*hidden_init(self.fc1))\n",
    "        self.fc2.weight.data.uniform_(*hidden_init(self.fc2))\n",
    "        self.fc3.weight.data.uniform_(-3e-3, 3e-3)\n",
    "\n",
    "    def forward(self, state):\n",
    "\n",
    "        if state.dim() == 1:\n",
    "            state = torch.unsqueeze(state, dim=0)\n",
    "\n",
    "        x = self.bn1(F.relu(self.fc1(state)))\n",
    "        x = self.bn2(F.relu(self.fc2(x)))\n",
    "\n",
    "        return torch.softmax(F.softmax(self.fc3(x), dim=1), dim=1) "
   ]
  },
  {
   "cell_type": "code",
   "execution_count": 98,
   "metadata": {},
   "outputs": [
    {
     "name": "stdout",
     "output_type": "stream",
     "text": [
      "336 4\n",
      "Actor(\n",
      "  (fc1): Linear(in_features=336, out_features=512, bias=True)\n",
      "  (bn1): BatchNorm1d(512, eps=1e-05, momentum=0.1, affine=True, track_running_stats=True)\n",
      "  (fc2): Linear(in_features=512, out_features=512, bias=True)\n",
      "  (bn2): BatchNorm1d(512, eps=1e-05, momentum=0.1, affine=True, track_running_stats=True)\n",
      "  (fc3): Linear(in_features=512, out_features=4, bias=True)\n",
      ")\n",
      "torch.Size([10, 336])\n",
      "torch.Size([10, 4])\n",
      "[[0.2537607  0.24658328 0.27333692 0.22631907]\n",
      " [0.23147541 0.26148415 0.24441732 0.2626231 ]\n",
      " [0.23446783 0.2543559  0.24774332 0.26343295]\n",
      " [0.279156   0.24098648 0.23757239 0.24228501]\n",
      " [0.27143902 0.23596922 0.22706124 0.26553047]\n",
      " [0.25432917 0.24243432 0.24511899 0.25811753]\n",
      " [0.2507477  0.23452622 0.23873644 0.27598956]\n",
      " [0.2777744  0.23473226 0.24381831 0.24367502]\n",
      " [0.23242496 0.2596699  0.27236032 0.2355447 ]\n",
      " [0.23747899 0.26905397 0.25963524 0.23383175]]\n"
     ]
    }
   ],
   "source": [
    "print(goalier_state_size, goalier_action_size)\n",
    "actor = Actor(goalier_state_size, goalier_action_size, 512, 512)\n",
    "print(actor)\n",
    "input_state = torch.rand(10, goalier_state_size)\n",
    "print(input_state.shape)\n",
    "output = actor(input_state)\n",
    "print(output.shape)\n",
    "print(output.data.numpy())"
   ]
  },
  {
   "cell_type": "code",
   "execution_count": 20,
   "metadata": {
    "scrolled": true
   },
   "outputs": [
    {
     "name": "stdout",
     "output_type": "stream",
     "text": [
      "4\n",
      "336\n",
      "(2, 336)\n",
      "[1 0]\n"
     ]
    },
    {
     "name": "stderr",
     "output_type": "stream",
     "text": [
      "/home/randson/workspace/Soccer/models.py:47: UserWarning: Implicit dimension choice for softmax has been deprecated. Change the call to include dim=X as an argument.\n",
      "  return torch.argmax(F.softmax(self.fc3(x)))\n"
     ]
    }
   ],
   "source": [
    "goalier_team = [Agent(state_size=goalier_state_size * 2, action_size=goalier_action_size) for _ in\n",
    "                range(num_goalier_agents)]\n",
    "\n",
    "print(goalier_action_size)\n",
    "print(goalier_state_size)\n",
    "state = env_info[striker_brain_name].vector_observations\n",
    "print(state.shape)\n",
    "state = np.reshape(state, (1, -1))\n",
    "actions = [agent.act(state) for agent in goalier_team]\n",
    "actions = np.asarray(actions, dtype=np.int16)\n",
    "print(actions)"
   ]
  },
  {
   "cell_type": "code",
   "execution_count": 33,
   "metadata": {},
   "outputs": [
    {
     "data": {
      "text/plain": [
       "tensor([0.0812, 0.0528, 0.7181, 0.1479], dtype=torch.float64)"
      ]
     },
     "execution_count": 33,
     "metadata": {},
     "output_type": "execute_result"
    }
   ],
   "source": [
    "import torch.nn.functional as F\n",
    "a = np.array([0.3, -.13, 2.48, 0.9])\n",
    "F.softmax(torch.from_numpy(a), dim=0)"
   ]
  },
  {
   "cell_type": "code",
   "execution_count": 7,
   "metadata": {
    "scrolled": true
   },
   "outputs": [
    {
     "name": "stdout",
     "output_type": "stream",
     "text": [
      "using device:  cpu\n",
      "Unity Academy name: Academy\n",
      "        Number of Brains: 2\n",
      "        Number of External Brains : 2\n",
      "        Lesson number : 0\n",
      "        Reset Parameters :\n",
      "\t\t\n",
      "Unity brain name: GoalieBrain\n",
      "        Number of Visual Observations (per agent): 0\n",
      "        Vector Observation space type: continuous\n",
      "        Vector Observation space size (per agent): 112\n",
      "        Number of stacked Vector Observation: 3\n",
      "        Vector Action space type: discrete\n",
      "        Vector Action space size (per agent): 4\n",
      "        Vector Action descriptions: , , , \n",
      "Unity brain name: StrikerBrain\n",
      "        Number of Visual Observations (per agent): 0\n",
      "        Vector Observation space type: continuous\n",
      "        Vector Observation space size (per agent): 112\n",
      "        Number of stacked Vector Observation: 3\n",
      "        Vector Action space type: discrete\n",
      "        Vector Action space size (per agent): 6\n",
      "        Vector Action descriptions: , , , , , \n",
      "training the DDPG model...\n",
      "Num goalier agents 2\n",
      "Num striker agents 2\n"
     ]
    }
   ],
   "source": [
    "device = torch.device(\"cuda:0\" if torch.cuda.is_available() else \"cpu\")\n",
    "print(\"using device: \", device)\n",
    "print(env)\n",
    "\n",
    "# set the goalie brain\n",
    "goalier_brain_name, striker_brain_name = env.brain_names\n",
    "\n",
    "goalier_brain = env.brains[goalier_brain_name]\n",
    "striker_brain = env.brains[striker_brain_name]\n",
    "\n",
    "env_info = env.reset(train_mode=True)  # reset the environment\n",
    "\n",
    "num_goalier_agents = len(env_info[goalier_brain_name].agents)\n",
    "num_striker_agents = len(env_info[striker_brain_name].agents)\n",
    "\n",
    "goalier_action_size = goalier_brain.vector_action_space_size\n",
    "striker_action_size = striker_brain.vector_action_space_size\n",
    "\n",
    "goalier_states = env_info[goalier_brain_name].vector_observations\n",
    "striker_states = env_info[striker_brain_name].vector_observations\n",
    "\n",
    "goalier_state_size = goalier_states.shape[1]\n",
    "striker_state_size = striker_states.shape[1]\n",
    "\n",
    "print(\"training the DDPG model...\")\n",
    "\n",
    "goalier_team = [Agent(state_size=goalier_state_size * 2, action_size=goalier_action_size) for _ in\n",
    "                range(num_goalier_agents)]\n",
    "striker_team = [Agent(state_size=striker_state_size * 2, action_size=striker_action_size) for _ in\n",
    "                range(num_striker_agents)]\n",
    "\n",
    "print(\"Num goalier agents\", len(goalier_team))\n",
    "print(\"Num striker agents\", len(striker_team))\n",
    "\n",
    "# scores = run_ddpg(env, goalier_team, striker_team, max_episodes=5000, max_steps=1000)\n",
    "\n"
   ]
  },
  {
   "cell_type": "code",
   "execution_count": null,
   "metadata": {},
   "outputs": [],
   "source": [
    "np.random.randint((striker_team[0].action_size), size=len(striker_team))"
   ]
  },
  {
   "cell_type": "code",
   "execution_count": null,
   "metadata": {},
   "outputs": [],
   "source": [
    "fig, ax = plt.subplots()\n",
    "ax.plot(np.arange(1, len(scores) + 1), scores)\n",
    "ax.set_ylabel('Scores')\n",
    "ax.set_xlabel('Episode #')\n",
    "fig.savefig(\"score_x_episodes.png\")\n",
    "plt.show()\n",
    "\n",
    "w = 10\n",
    "mean_score = [np.mean(scores[i - w:i]) for i in range(w, len(scores))]\n",
    "fig, ax = plt.subplots()\n",
    "ax.plot(np.arange(1, len(mean_score) + 1), mean_score)\n",
    "ax.set_ylabel('Scores')\n",
    "ax.set_xlabel('Episode #')\n",
    "fig.savefig(\"score_x_episodes_smorthed.png\")\n",
    "plt.show()"
   ]
  }
 ],
 "metadata": {
  "kernelspec": {
   "display_name": "Python 3",
   "language": "python",
   "name": "python3"
  },
  "language_info": {
   "codemirror_mode": {
    "name": "ipython",
    "version": 3
   },
   "file_extension": ".py",
   "mimetype": "text/x-python",
   "name": "python",
   "nbconvert_exporter": "python",
   "pygments_lexer": "ipython3",
   "version": "3.6.7"
  }
 },
 "nbformat": 4,
 "nbformat_minor": 2
}
